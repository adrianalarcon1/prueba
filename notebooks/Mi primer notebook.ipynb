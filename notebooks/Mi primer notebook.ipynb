{
 "cells": [
  {
   "cell_type": "markdown",
   "id": "e803e5ae",
   "metadata": {},
   "source": [
    "# Este es mi primer notebook\n",
    "## Este es el subtítulo de mi notebook\n",
    "\n",
    "Este es un texto"
   ]
  },
  {
   "cell_type": "code",
   "execution_count": 1,
   "id": "1f5960eb",
   "metadata": {},
   "outputs": [
    {
     "name": "stdout",
     "output_type": "stream",
     "text": [
      "Mi nombre es Adrián Alarcón\n"
     ]
    }
   ],
   "source": [
    "print('Mi nombre es Adrián Alarcón')"
   ]
  }
 ],
 "metadata": {
  "kernelspec": {
   "display_name": "Python 3 (ipykernel)",
   "language": "python",
   "name": "python3"
  },
  "language_info": {
   "codemirror_mode": {
    "name": "ipython",
    "version": 3
   },
   "file_extension": ".py",
   "mimetype": "text/x-python",
   "name": "python",
   "nbconvert_exporter": "python",
   "pygments_lexer": "ipython3",
   "version": "3.9.13"
  }
 },
 "nbformat": 4,
 "nbformat_minor": 5
}
